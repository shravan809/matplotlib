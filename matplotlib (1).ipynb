{
 "cells": [
  {
   "cell_type": "markdown",
   "id": "c836380a",
   "metadata": {},
   "source": [
    "### importing the libraries"
   ]
  },
  {
   "cell_type": "code",
   "execution_count": 1,
   "id": "c10b3892",
   "metadata": {},
   "outputs": [],
   "source": [
    "import numpy as np\n",
    "import pandas as pd\n",
    "import seaborn as sns\n",
    "import matplotlib.pyplot as plt\n",
    "%matplotlib inline"
   ]
  },
  {
   "cell_type": "code",
   "execution_count": 2,
   "id": "955a4f33",
   "metadata": {},
   "outputs": [],
   "source": [
    "df = pd.read_csv('d:\\python\\StudentsInfo.csv')"
   ]
  },
  {
   "cell_type": "code",
   "execution_count": 3,
   "id": "759f14c5",
   "metadata": {},
   "outputs": [
    {
     "data": {
      "text/html": [
       "<div>\n",
       "<style scoped>\n",
       "    .dataframe tbody tr th:only-of-type {\n",
       "        vertical-align: middle;\n",
       "    }\n",
       "\n",
       "    .dataframe tbody tr th {\n",
       "        vertical-align: top;\n",
       "    }\n",
       "\n",
       "    .dataframe thead th {\n",
       "        text-align: right;\n",
       "    }\n",
       "</style>\n",
       "<table border=\"1\" class=\"dataframe\">\n",
       "  <thead>\n",
       "    <tr style=\"text-align: right;\">\n",
       "      <th></th>\n",
       "      <th>Month</th>\n",
       "      <th>Date</th>\n",
       "      <th>Day</th>\n",
       "      <th>Name</th>\n",
       "      <th>Phone</th>\n",
       "      <th>Email</th>\n",
       "      <th>Course</th>\n",
       "      <th>Source</th>\n",
       "      <th>Status</th>\n",
       "      <th>City</th>\n",
       "      <th>Fee</th>\n",
       "      <th>Paid</th>\n",
       "      <th>Balance</th>\n",
       "    </tr>\n",
       "  </thead>\n",
       "  <tbody>\n",
       "    <tr>\n",
       "      <th>0</th>\n",
       "      <td>May</td>\n",
       "      <td>5/17/2017 10:59</td>\n",
       "      <td>NaN</td>\n",
       "      <td>Anand</td>\n",
       "      <td>9160782299</td>\n",
       "      <td>mybox1224@gmail.com</td>\n",
       "      <td>Salesforce</td>\n",
       "      <td>Reference</td>\n",
       "      <td>Follow Up</td>\n",
       "      <td>Hyderabad</td>\n",
       "      <td>30000</td>\n",
       "      <td>4000</td>\n",
       "      <td>26000</td>\n",
       "    </tr>\n",
       "    <tr>\n",
       "      <th>1</th>\n",
       "      <td>May</td>\n",
       "      <td>5/17/2017 11:14</td>\n",
       "      <td>NaN</td>\n",
       "      <td>Pranav</td>\n",
       "      <td>9533412825</td>\n",
       "      <td>a@abc.com</td>\n",
       "      <td>Python</td>\n",
       "      <td>Walk-In</td>\n",
       "      <td>Follow Up</td>\n",
       "      <td>Hyderabad</td>\n",
       "      <td>15000</td>\n",
       "      <td>3000</td>\n",
       "      <td>12000</td>\n",
       "    </tr>\n",
       "    <tr>\n",
       "      <th>2</th>\n",
       "      <td>May</td>\n",
       "      <td>5/17/2017 11:16</td>\n",
       "      <td>NaN</td>\n",
       "      <td>Puja Jain</td>\n",
       "      <td>9014855708</td>\n",
       "      <td>NaN</td>\n",
       "      <td>Salesforce</td>\n",
       "      <td>Sulekha</td>\n",
       "      <td>Follow Up</td>\n",
       "      <td>Bangalore</td>\n",
       "      <td>10000</td>\n",
       "      <td>2000</td>\n",
       "      <td>8000</td>\n",
       "    </tr>\n",
       "    <tr>\n",
       "      <th>3</th>\n",
       "      <td>May</td>\n",
       "      <td>5/18/2017 3:00</td>\n",
       "      <td>Thus</td>\n",
       "      <td>Krishna</td>\n",
       "      <td>7306201347</td>\n",
       "      <td>cs_yp@sulekha.ne</td>\n",
       "      <td>Devops</td>\n",
       "      <td>Sulekha</td>\n",
       "      <td>Follow Up</td>\n",
       "      <td>Hyderabad</td>\n",
       "      <td>30000</td>\n",
       "      <td>4000</td>\n",
       "      <td>26000</td>\n",
       "    </tr>\n",
       "    <tr>\n",
       "      <th>4</th>\n",
       "      <td>May</td>\n",
       "      <td>5/18/2017 3:30</td>\n",
       "      <td>Thus</td>\n",
       "      <td>Eswar</td>\n",
       "      <td>9533229388</td>\n",
       "      <td>NaN</td>\n",
       "      <td>Python</td>\n",
       "      <td>Sulekha</td>\n",
       "      <td>Follow Up</td>\n",
       "      <td>Hyderabad</td>\n",
       "      <td>15000</td>\n",
       "      <td>3000</td>\n",
       "      <td>12000</td>\n",
       "    </tr>\n",
       "    <tr>\n",
       "      <th>...</th>\n",
       "      <td>...</td>\n",
       "      <td>...</td>\n",
       "      <td>...</td>\n",
       "      <td>...</td>\n",
       "      <td>...</td>\n",
       "      <td>...</td>\n",
       "      <td>...</td>\n",
       "      <td>...</td>\n",
       "      <td>...</td>\n",
       "      <td>...</td>\n",
       "      <td>...</td>\n",
       "      <td>...</td>\n",
       "      <td>...</td>\n",
       "    </tr>\n",
       "    <tr>\n",
       "      <th>3140</th>\n",
       "      <td>NaN</td>\n",
       "      <td>NaN</td>\n",
       "      <td>NaN</td>\n",
       "      <td>Venkata reddy</td>\n",
       "      <td>NaN</td>\n",
       "      <td>u.venkatareddymba@gmail.com</td>\n",
       "      <td>oracle financial R12</td>\n",
       "      <td>justdail</td>\n",
       "      <td>NaN</td>\n",
       "      <td>hyderabad</td>\n",
       "      <td>30000</td>\n",
       "      <td>3000</td>\n",
       "      <td>27000</td>\n",
       "    </tr>\n",
       "    <tr>\n",
       "      <th>3141</th>\n",
       "      <td>NaN</td>\n",
       "      <td>NaN</td>\n",
       "      <td>NaN</td>\n",
       "      <td>Syed ishaq</td>\n",
       "      <td>8686053430</td>\n",
       "      <td>NaN</td>\n",
       "      <td>PYTHON</td>\n",
       "      <td>justdail</td>\n",
       "      <td>NaN</td>\n",
       "      <td>hyderabad</td>\n",
       "      <td>15000</td>\n",
       "      <td>3000</td>\n",
       "      <td>12000</td>\n",
       "    </tr>\n",
       "    <tr>\n",
       "      <th>3142</th>\n",
       "      <td>NaN</td>\n",
       "      <td>18-10-2017</td>\n",
       "      <td>NaN</td>\n",
       "      <td>Venu</td>\n",
       "      <td>8185858424</td>\n",
       "      <td>venu.swamy1@gmail.com</td>\n",
       "      <td>oracle financial R12</td>\n",
       "      <td>justdail</td>\n",
       "      <td>NaN</td>\n",
       "      <td>hyderabad</td>\n",
       "      <td>10000</td>\n",
       "      <td>2000</td>\n",
       "      <td>8000</td>\n",
       "    </tr>\n",
       "    <tr>\n",
       "      <th>3143</th>\n",
       "      <td>NaN</td>\n",
       "      <td>NaN</td>\n",
       "      <td>NaN</td>\n",
       "      <td>suresh</td>\n",
       "      <td>9700440507</td>\n",
       "      <td>sureshdiamondhydtt@gmail.com</td>\n",
       "      <td>aws</td>\n",
       "      <td>justdail</td>\n",
       "      <td>NaN</td>\n",
       "      <td>hyderabad</td>\n",
       "      <td>30000</td>\n",
       "      <td>3000</td>\n",
       "      <td>27000</td>\n",
       "    </tr>\n",
       "    <tr>\n",
       "      <th>3144</th>\n",
       "      <td>NaN</td>\n",
       "      <td>NaN</td>\n",
       "      <td>NaN</td>\n",
       "      <td>Vinod</td>\n",
       "      <td>9110328751</td>\n",
       "      <td>NaN</td>\n",
       "      <td>devops</td>\n",
       "      <td>justdail</td>\n",
       "      <td>NaN</td>\n",
       "      <td>hyderabad</td>\n",
       "      <td>15000</td>\n",
       "      <td>2000</td>\n",
       "      <td>13000</td>\n",
       "    </tr>\n",
       "  </tbody>\n",
       "</table>\n",
       "<p>3145 rows × 13 columns</p>\n",
       "</div>"
      ],
      "text/plain": [
       "     Month             Date   Day           Name       Phone  \\\n",
       "0      May  5/17/2017 10:59   NaN          Anand  9160782299   \n",
       "1      May  5/17/2017 11:14   NaN         Pranav  9533412825   \n",
       "2      May  5/17/2017 11:16   NaN      Puja Jain  9014855708   \n",
       "3      May   5/18/2017 3:00  Thus        Krishna  7306201347   \n",
       "4      May   5/18/2017 3:30  Thus          Eswar  9533229388   \n",
       "...    ...              ...   ...            ...         ...   \n",
       "3140   NaN              NaN   NaN  Venkata reddy         NaN   \n",
       "3141   NaN              NaN   NaN     Syed ishaq  8686053430   \n",
       "3142   NaN       18-10-2017   NaN           Venu  8185858424   \n",
       "3143   NaN              NaN   NaN         suresh  9700440507   \n",
       "3144   NaN              NaN   NaN          Vinod  9110328751   \n",
       "\n",
       "                             Email                Course     Source  \\\n",
       "0              mybox1224@gmail.com            Salesforce  Reference   \n",
       "1                        a@abc.com                Python    Walk-In   \n",
       "2                              NaN            Salesforce    Sulekha   \n",
       "3                 cs_yp@sulekha.ne                Devops    Sulekha   \n",
       "4                              NaN                Python    Sulekha   \n",
       "...                            ...                   ...        ...   \n",
       "3140   u.venkatareddymba@gmail.com  oracle financial R12   justdail   \n",
       "3141                           NaN                PYTHON   justdail   \n",
       "3142         venu.swamy1@gmail.com  oracle financial R12   justdail   \n",
       "3143  sureshdiamondhydtt@gmail.com                   aws   justdail   \n",
       "3144                           NaN                devops   justdail   \n",
       "\n",
       "         Status       City    Fee  Paid  Balance  \n",
       "0     Follow Up  Hyderabad  30000  4000    26000  \n",
       "1     Follow Up  Hyderabad  15000  3000    12000  \n",
       "2     Follow Up  Bangalore  10000  2000     8000  \n",
       "3     Follow Up  Hyderabad  30000  4000    26000  \n",
       "4     Follow Up  Hyderabad  15000  3000    12000  \n",
       "...         ...        ...    ...   ...      ...  \n",
       "3140        NaN  hyderabad  30000  3000    27000  \n",
       "3141        NaN  hyderabad  15000  3000    12000  \n",
       "3142        NaN  hyderabad  10000  2000     8000  \n",
       "3143        NaN  hyderabad  30000  3000    27000  \n",
       "3144        NaN  hyderabad  15000  2000    13000  \n",
       "\n",
       "[3145 rows x 13 columns]"
      ]
     },
     "execution_count": 3,
     "metadata": {},
     "output_type": "execute_result"
    }
   ],
   "source": [
    "df"
   ]
  },
  {
   "cell_type": "code",
   "execution_count": 4,
   "id": "d188434c",
   "metadata": {},
   "outputs": [
    {
     "data": {
      "text/html": [
       "<div>\n",
       "<style scoped>\n",
       "    .dataframe tbody tr th:only-of-type {\n",
       "        vertical-align: middle;\n",
       "    }\n",
       "\n",
       "    .dataframe tbody tr th {\n",
       "        vertical-align: top;\n",
       "    }\n",
       "\n",
       "    .dataframe thead th {\n",
       "        text-align: right;\n",
       "    }\n",
       "</style>\n",
       "<table border=\"1\" class=\"dataframe\">\n",
       "  <thead>\n",
       "    <tr style=\"text-align: right;\">\n",
       "      <th></th>\n",
       "      <th>Month</th>\n",
       "      <th>Date</th>\n",
       "      <th>Day</th>\n",
       "      <th>Name</th>\n",
       "      <th>Phone</th>\n",
       "      <th>Email</th>\n",
       "      <th>Course</th>\n",
       "      <th>Source</th>\n",
       "      <th>Status</th>\n",
       "      <th>City</th>\n",
       "      <th>Fee</th>\n",
       "      <th>Paid</th>\n",
       "      <th>Balance</th>\n",
       "    </tr>\n",
       "  </thead>\n",
       "  <tbody>\n",
       "    <tr>\n",
       "      <th>0</th>\n",
       "      <td>May</td>\n",
       "      <td>5/17/2017 10:59</td>\n",
       "      <td>NaN</td>\n",
       "      <td>Anand</td>\n",
       "      <td>9160782299</td>\n",
       "      <td>mybox1224@gmail.com</td>\n",
       "      <td>Salesforce</td>\n",
       "      <td>Reference</td>\n",
       "      <td>Follow Up</td>\n",
       "      <td>Hyderabad</td>\n",
       "      <td>30000</td>\n",
       "      <td>4000</td>\n",
       "      <td>26000</td>\n",
       "    </tr>\n",
       "    <tr>\n",
       "      <th>1</th>\n",
       "      <td>May</td>\n",
       "      <td>5/17/2017 11:14</td>\n",
       "      <td>NaN</td>\n",
       "      <td>Pranav</td>\n",
       "      <td>9533412825</td>\n",
       "      <td>a@abc.com</td>\n",
       "      <td>Python</td>\n",
       "      <td>Walk-In</td>\n",
       "      <td>Follow Up</td>\n",
       "      <td>Hyderabad</td>\n",
       "      <td>15000</td>\n",
       "      <td>3000</td>\n",
       "      <td>12000</td>\n",
       "    </tr>\n",
       "    <tr>\n",
       "      <th>2</th>\n",
       "      <td>May</td>\n",
       "      <td>5/17/2017 11:16</td>\n",
       "      <td>NaN</td>\n",
       "      <td>Puja Jain</td>\n",
       "      <td>9014855708</td>\n",
       "      <td>NaN</td>\n",
       "      <td>Salesforce</td>\n",
       "      <td>Sulekha</td>\n",
       "      <td>Follow Up</td>\n",
       "      <td>Bangalore</td>\n",
       "      <td>10000</td>\n",
       "      <td>2000</td>\n",
       "      <td>8000</td>\n",
       "    </tr>\n",
       "    <tr>\n",
       "      <th>3</th>\n",
       "      <td>May</td>\n",
       "      <td>5/18/2017 3:00</td>\n",
       "      <td>Thus</td>\n",
       "      <td>Krishna</td>\n",
       "      <td>7306201347</td>\n",
       "      <td>cs_yp@sulekha.ne</td>\n",
       "      <td>Devops</td>\n",
       "      <td>Sulekha</td>\n",
       "      <td>Follow Up</td>\n",
       "      <td>Hyderabad</td>\n",
       "      <td>30000</td>\n",
       "      <td>4000</td>\n",
       "      <td>26000</td>\n",
       "    </tr>\n",
       "    <tr>\n",
       "      <th>4</th>\n",
       "      <td>May</td>\n",
       "      <td>5/18/2017 3:30</td>\n",
       "      <td>Thus</td>\n",
       "      <td>Eswar</td>\n",
       "      <td>9533229388</td>\n",
       "      <td>NaN</td>\n",
       "      <td>Python</td>\n",
       "      <td>Sulekha</td>\n",
       "      <td>Follow Up</td>\n",
       "      <td>Hyderabad</td>\n",
       "      <td>15000</td>\n",
       "      <td>3000</td>\n",
       "      <td>12000</td>\n",
       "    </tr>\n",
       "  </tbody>\n",
       "</table>\n",
       "</div>"
      ],
      "text/plain": [
       "  Month             Date   Day       Name       Phone                Email  \\\n",
       "0   May  5/17/2017 10:59   NaN      Anand  9160782299  mybox1224@gmail.com   \n",
       "1   May  5/17/2017 11:14   NaN     Pranav  9533412825            a@abc.com   \n",
       "2   May  5/17/2017 11:16   NaN  Puja Jain  9014855708                  NaN   \n",
       "3   May   5/18/2017 3:00  Thus    Krishna  7306201347     cs_yp@sulekha.ne   \n",
       "4   May   5/18/2017 3:30  Thus      Eswar  9533229388                  NaN   \n",
       "\n",
       "       Course     Source     Status       City    Fee  Paid  Balance  \n",
       "0  Salesforce  Reference  Follow Up  Hyderabad  30000  4000    26000  \n",
       "1      Python    Walk-In  Follow Up  Hyderabad  15000  3000    12000  \n",
       "2  Salesforce    Sulekha  Follow Up  Bangalore  10000  2000     8000  \n",
       "3      Devops    Sulekha  Follow Up  Hyderabad  30000  4000    26000  \n",
       "4      Python    Sulekha  Follow Up  Hyderabad  15000  3000    12000  "
      ]
     },
     "execution_count": 4,
     "metadata": {},
     "output_type": "execute_result"
    }
   ],
   "source": [
    "df.head()"
   ]
  },
  {
   "cell_type": "code",
   "execution_count": 5,
   "id": "a350ea8b",
   "metadata": {},
   "outputs": [
    {
     "data": {
      "text/html": [
       "<div>\n",
       "<style scoped>\n",
       "    .dataframe tbody tr th:only-of-type {\n",
       "        vertical-align: middle;\n",
       "    }\n",
       "\n",
       "    .dataframe tbody tr th {\n",
       "        vertical-align: top;\n",
       "    }\n",
       "\n",
       "    .dataframe thead th {\n",
       "        text-align: right;\n",
       "    }\n",
       "</style>\n",
       "<table border=\"1\" class=\"dataframe\">\n",
       "  <thead>\n",
       "    <tr style=\"text-align: right;\">\n",
       "      <th></th>\n",
       "      <th>Month</th>\n",
       "      <th>Date</th>\n",
       "      <th>Day</th>\n",
       "      <th>Name</th>\n",
       "      <th>Phone</th>\n",
       "      <th>Email</th>\n",
       "      <th>Course</th>\n",
       "      <th>Source</th>\n",
       "      <th>Status</th>\n",
       "      <th>City</th>\n",
       "      <th>Fee</th>\n",
       "      <th>Paid</th>\n",
       "      <th>Balance</th>\n",
       "    </tr>\n",
       "  </thead>\n",
       "  <tbody>\n",
       "    <tr>\n",
       "      <th>3140</th>\n",
       "      <td>NaN</td>\n",
       "      <td>NaN</td>\n",
       "      <td>NaN</td>\n",
       "      <td>Venkata reddy</td>\n",
       "      <td>NaN</td>\n",
       "      <td>u.venkatareddymba@gmail.com</td>\n",
       "      <td>oracle financial R12</td>\n",
       "      <td>justdail</td>\n",
       "      <td>NaN</td>\n",
       "      <td>hyderabad</td>\n",
       "      <td>30000</td>\n",
       "      <td>3000</td>\n",
       "      <td>27000</td>\n",
       "    </tr>\n",
       "    <tr>\n",
       "      <th>3141</th>\n",
       "      <td>NaN</td>\n",
       "      <td>NaN</td>\n",
       "      <td>NaN</td>\n",
       "      <td>Syed ishaq</td>\n",
       "      <td>8686053430</td>\n",
       "      <td>NaN</td>\n",
       "      <td>PYTHON</td>\n",
       "      <td>justdail</td>\n",
       "      <td>NaN</td>\n",
       "      <td>hyderabad</td>\n",
       "      <td>15000</td>\n",
       "      <td>3000</td>\n",
       "      <td>12000</td>\n",
       "    </tr>\n",
       "    <tr>\n",
       "      <th>3142</th>\n",
       "      <td>NaN</td>\n",
       "      <td>18-10-2017</td>\n",
       "      <td>NaN</td>\n",
       "      <td>Venu</td>\n",
       "      <td>8185858424</td>\n",
       "      <td>venu.swamy1@gmail.com</td>\n",
       "      <td>oracle financial R12</td>\n",
       "      <td>justdail</td>\n",
       "      <td>NaN</td>\n",
       "      <td>hyderabad</td>\n",
       "      <td>10000</td>\n",
       "      <td>2000</td>\n",
       "      <td>8000</td>\n",
       "    </tr>\n",
       "    <tr>\n",
       "      <th>3143</th>\n",
       "      <td>NaN</td>\n",
       "      <td>NaN</td>\n",
       "      <td>NaN</td>\n",
       "      <td>suresh</td>\n",
       "      <td>9700440507</td>\n",
       "      <td>sureshdiamondhydtt@gmail.com</td>\n",
       "      <td>aws</td>\n",
       "      <td>justdail</td>\n",
       "      <td>NaN</td>\n",
       "      <td>hyderabad</td>\n",
       "      <td>30000</td>\n",
       "      <td>3000</td>\n",
       "      <td>27000</td>\n",
       "    </tr>\n",
       "    <tr>\n",
       "      <th>3144</th>\n",
       "      <td>NaN</td>\n",
       "      <td>NaN</td>\n",
       "      <td>NaN</td>\n",
       "      <td>Vinod</td>\n",
       "      <td>9110328751</td>\n",
       "      <td>NaN</td>\n",
       "      <td>devops</td>\n",
       "      <td>justdail</td>\n",
       "      <td>NaN</td>\n",
       "      <td>hyderabad</td>\n",
       "      <td>15000</td>\n",
       "      <td>2000</td>\n",
       "      <td>13000</td>\n",
       "    </tr>\n",
       "  </tbody>\n",
       "</table>\n",
       "</div>"
      ],
      "text/plain": [
       "     Month        Date  Day           Name       Phone  \\\n",
       "3140   NaN         NaN  NaN  Venkata reddy         NaN   \n",
       "3141   NaN         NaN  NaN     Syed ishaq  8686053430   \n",
       "3142   NaN  18-10-2017  NaN           Venu  8185858424   \n",
       "3143   NaN         NaN  NaN         suresh  9700440507   \n",
       "3144   NaN         NaN  NaN          Vinod  9110328751   \n",
       "\n",
       "                             Email                Course    Source Status  \\\n",
       "3140   u.venkatareddymba@gmail.com  oracle financial R12  justdail    NaN   \n",
       "3141                           NaN                PYTHON  justdail    NaN   \n",
       "3142         venu.swamy1@gmail.com  oracle financial R12  justdail    NaN   \n",
       "3143  sureshdiamondhydtt@gmail.com                   aws  justdail    NaN   \n",
       "3144                           NaN                devops  justdail    NaN   \n",
       "\n",
       "           City    Fee  Paid  Balance  \n",
       "3140  hyderabad  30000  3000    27000  \n",
       "3141  hyderabad  15000  3000    12000  \n",
       "3142  hyderabad  10000  2000     8000  \n",
       "3143  hyderabad  30000  3000    27000  \n",
       "3144  hyderabad  15000  2000    13000  "
      ]
     },
     "execution_count": 5,
     "metadata": {},
     "output_type": "execute_result"
    }
   ],
   "source": [
    "df.tail()"
   ]
  },
  {
   "cell_type": "code",
   "execution_count": 6,
   "id": "38afd926",
   "metadata": {},
   "outputs": [
    {
     "data": {
      "text/plain": [
       "Index(['Month', 'Date', 'Day', 'Name', 'Phone', 'Email', 'Course', 'Source',\n",
       "       'Status', 'City', 'Fee', 'Paid', 'Balance'],\n",
       "      dtype='object')"
      ]
     },
     "execution_count": 6,
     "metadata": {},
     "output_type": "execute_result"
    }
   ],
   "source": [
    "df.columns"
   ]
  },
  {
   "cell_type": "code",
   "execution_count": 7,
   "id": "acde4aea",
   "metadata": {},
   "outputs": [
    {
     "data": {
      "text/plain": [
       "Month      object\n",
       "Date       object\n",
       "Day        object\n",
       "Name       object\n",
       "Phone      object\n",
       "Email      object\n",
       "Course     object\n",
       "Source     object\n",
       "Status     object\n",
       "City       object\n",
       "Fee         int64\n",
       "Paid        int64\n",
       "Balance     int64\n",
       "dtype: object"
      ]
     },
     "execution_count": 7,
     "metadata": {},
     "output_type": "execute_result"
    }
   ],
   "source": [
    "df.dtypes"
   ]
  },
  {
   "cell_type": "code",
   "execution_count": 8,
   "id": "346d6e39",
   "metadata": {},
   "outputs": [
    {
     "data": {
      "text/html": [
       "<div>\n",
       "<style scoped>\n",
       "    .dataframe tbody tr th:only-of-type {\n",
       "        vertical-align: middle;\n",
       "    }\n",
       "\n",
       "    .dataframe tbody tr th {\n",
       "        vertical-align: top;\n",
       "    }\n",
       "\n",
       "    .dataframe thead th {\n",
       "        text-align: right;\n",
       "    }\n",
       "</style>\n",
       "<table border=\"1\" class=\"dataframe\">\n",
       "  <thead>\n",
       "    <tr style=\"text-align: right;\">\n",
       "      <th></th>\n",
       "      <th>Fee</th>\n",
       "      <th>Paid</th>\n",
       "      <th>Balance</th>\n",
       "    </tr>\n",
       "  </thead>\n",
       "  <tbody>\n",
       "    <tr>\n",
       "      <th>count</th>\n",
       "      <td>3145.000000</td>\n",
       "      <td>3145.000000</td>\n",
       "      <td>3145.000000</td>\n",
       "    </tr>\n",
       "    <tr>\n",
       "      <th>mean</th>\n",
       "      <td>17737.678855</td>\n",
       "      <td>2914.785374</td>\n",
       "      <td>14822.893482</td>\n",
       "    </tr>\n",
       "    <tr>\n",
       "      <th>std</th>\n",
       "      <td>7404.579274</td>\n",
       "      <td>753.946884</td>\n",
       "      <td>7315.116274</td>\n",
       "    </tr>\n",
       "    <tr>\n",
       "      <th>min</th>\n",
       "      <td>10000.000000</td>\n",
       "      <td>2000.000000</td>\n",
       "      <td>6000.000000</td>\n",
       "    </tr>\n",
       "    <tr>\n",
       "      <th>25%</th>\n",
       "      <td>10000.000000</td>\n",
       "      <td>2000.000000</td>\n",
       "      <td>8000.000000</td>\n",
       "    </tr>\n",
       "    <tr>\n",
       "      <th>50%</th>\n",
       "      <td>15000.000000</td>\n",
       "      <td>3000.000000</td>\n",
       "      <td>12000.000000</td>\n",
       "    </tr>\n",
       "    <tr>\n",
       "      <th>75%</th>\n",
       "      <td>20000.000000</td>\n",
       "      <td>3000.000000</td>\n",
       "      <td>18000.000000</td>\n",
       "    </tr>\n",
       "    <tr>\n",
       "      <th>max</th>\n",
       "      <td>30000.000000</td>\n",
       "      <td>4000.000000</td>\n",
       "      <td>28000.000000</td>\n",
       "    </tr>\n",
       "  </tbody>\n",
       "</table>\n",
       "</div>"
      ],
      "text/plain": [
       "                Fee         Paid       Balance\n",
       "count   3145.000000  3145.000000   3145.000000\n",
       "mean   17737.678855  2914.785374  14822.893482\n",
       "std     7404.579274   753.946884   7315.116274\n",
       "min    10000.000000  2000.000000   6000.000000\n",
       "25%    10000.000000  2000.000000   8000.000000\n",
       "50%    15000.000000  3000.000000  12000.000000\n",
       "75%    20000.000000  3000.000000  18000.000000\n",
       "max    30000.000000  4000.000000  28000.000000"
      ]
     },
     "execution_count": 8,
     "metadata": {},
     "output_type": "execute_result"
    }
   ],
   "source": [
    "df.describe()"
   ]
  },
  {
   "cell_type": "markdown",
   "id": "8a01d8f2",
   "metadata": {},
   "source": [
    "### value_counts"
   ]
  },
  {
   "cell_type": "code",
   "execution_count": 9,
   "id": "e4c146e3",
   "metadata": {},
   "outputs": [
    {
     "data": {
      "text/plain": [
       "10000    1038\n",
       "15000     743\n",
       "30000     624\n",
       "20000     592\n",
       "25000     148\n",
       "Name: Fee, dtype: int64"
      ]
     },
     "execution_count": 9,
     "metadata": {},
     "output_type": "execute_result"
    }
   ],
   "source": [
    "df.Fee.value_counts()"
   ]
  },
  {
   "cell_type": "code",
   "execution_count": 10,
   "id": "c466329e",
   "metadata": {},
   "outputs": [
    {
     "data": {
      "text/plain": [
       "3000    1335\n",
       "2000    1039\n",
       "4000     771\n",
       "Name: Paid, dtype: int64"
      ]
     },
     "execution_count": 10,
     "metadata": {},
     "output_type": "execute_result"
    }
   ],
   "source": [
    "df.Paid.value_counts()"
   ]
  },
  {
   "cell_type": "code",
   "execution_count": 11,
   "id": "8b91b845",
   "metadata": {},
   "outputs": [
    {
     "data": {
      "text/plain": [
       "12000    535\n",
       "8000     446\n",
       "7000     354\n",
       "26000    267\n",
       "18000    265\n",
       "27000    238\n",
       "6000     238\n",
       "17000    208\n",
       "13000    120\n",
       "28000    119\n",
       "16000    119\n",
       "23000     89\n",
       "11000     88\n",
       "21000     59\n",
       "Name: Balance, dtype: int64"
      ]
     },
     "execution_count": 11,
     "metadata": {},
     "output_type": "execute_result"
    }
   ],
   "source": [
    "df.Balance.value_counts()"
   ]
  },
  {
   "cell_type": "code",
   "execution_count": 12,
   "id": "bb905bdb",
   "metadata": {},
   "outputs": [
    {
     "data": {
      "text/plain": [
       "Hyderabad    2422\n",
       "hyderabad     608\n",
       "Bangalore      72\n",
       "Delhi          13\n",
       "Mumbai         12\n",
       "Pune            7\n",
       "Chennai         5\n",
       "bengalore       2\n",
       "Noida           1\n",
       "bangalore       1\n",
       "USA             1\n",
       "Name: City, dtype: int64"
      ]
     },
     "execution_count": 12,
     "metadata": {},
     "output_type": "execute_result"
    }
   ],
   "source": [
    "df.City.value_counts()"
   ]
  },
  {
   "cell_type": "code",
   "execution_count": 13,
   "id": "6091de1b",
   "metadata": {},
   "outputs": [
    {
     "data": {
      "text/plain": [
       "Vijay           25\n",
       "Prasad          24\n",
       "Srinivas        24\n",
       "Ravi            24\n",
       "Sai             23\n",
       "                ..\n",
       "ameer            1\n",
       "rambabu          1\n",
       "srvan            1\n",
       "Tofik ahamed     1\n",
       "Syed ishaq       1\n",
       "Name: Name, Length: 1797, dtype: int64"
      ]
     },
     "execution_count": 13,
     "metadata": {},
     "output_type": "execute_result"
    }
   ],
   "source": [
    "df.Name.value_counts()"
   ]
  },
  {
   "cell_type": "code",
   "execution_count": 45,
   "id": "5d1ea927",
   "metadata": {},
   "outputs": [
    {
     "data": {
      "text/plain": [
       "Python                  610\n",
       "Salesforce              492\n",
       "AWS                     363\n",
       "Devops                  264\n",
       "Tableau                 182\n",
       "Data Science            110\n",
       "Pega                    103\n",
       "Others                   93\n",
       "salesforce               92\n",
       "python                   88\n",
       "Oracle Finance           86\n",
       "PYTHON                   86\n",
       "AngularJS                83\n",
       "Workday                  63\n",
       "devops                   55\n",
       "Angularjs                42\n",
       "SAP BI                   42\n",
       "aws                      41\n",
       "pegaprpc                 38\n",
       "workday                  31\n",
       "Oracle Financial R12     27\n",
       "cloudcomputing           23\n",
       "SAP FICO                 23\n",
       "Six Sigma                21\n",
       "pyTHON                   11\n",
       "six sigma                 9\n",
       "Azure                     8\n",
       "Data science              6\n",
       "Django                    5\n",
       "oracle financial R12      4\n",
       "SAP BI/BO                 4\n",
       "Service Now               4\n",
       "SAP                       4\n",
       "0                         3\n",
       "digital marketing         3\n",
       "Hadoop                    3\n",
       "Aws                       3\n",
       "R progarmming             2\n",
       "others                    2\n",
       "pega                      2\n",
       "SAPABAPHR                 1\n",
       "SAP BO/BI                 1\n",
       "R programming             1\n",
       "datascience               1\n",
       "SAP HR                    1\n",
       "SAB BI/Bo                 1\n",
       "SAPBI                     1\n",
       "SAP ABAP                  1\n",
       "R Programming             1\n",
       "six Sigma                 1\n",
       "SAP                       1\n",
       "oracle financial r2       1\n",
       "saleforce                 1\n",
       "data science              1\n",
       "Name: Course, dtype: int64"
      ]
     },
     "execution_count": 45,
     "metadata": {},
     "output_type": "execute_result"
    }
   ],
   "source": [
    "df.Course.value_counts()"
   ]
  },
  {
   "cell_type": "code",
   "execution_count": 15,
   "id": "8690c0d0",
   "metadata": {},
   "outputs": [
    {
     "data": {
      "text/plain": [
       "Just Dial    1697\n",
       "just Dial     577\n",
       "Walk-In       346\n",
       "Sulekha       198\n",
       "Boards        108\n",
       "Urban Pro     103\n",
       "Google         30\n",
       "justdail       19\n",
       "Reference      16\n",
       "JUSt Dial      16\n",
       "Phamplets      11\n",
       "Website        11\n",
       "google          9\n",
       "Others          3\n",
       "Name: Source, dtype: int64"
      ]
     },
     "execution_count": 15,
     "metadata": {},
     "output_type": "execute_result"
    }
   ],
   "source": [
    "df.Source.value_counts()"
   ]
  },
  {
   "cell_type": "code",
   "execution_count": 16,
   "id": "420d5f8d",
   "metadata": {},
   "outputs": [
    {
     "data": {
      "text/plain": [
       "Follow Up            1667\n",
       "New Enquiry           570\n",
       "Joined                119\n",
       "Demo Attended          65\n",
       "Cancel                 60\n",
       "follow up              34\n",
       "Attending Classes       8\n",
       "follow Up               8\n",
       "Name: Status, dtype: int64"
      ]
     },
     "execution_count": 16,
     "metadata": {},
     "output_type": "execute_result"
    }
   ],
   "source": [
    "df.Status.value_counts()"
   ]
  },
  {
   "cell_type": "markdown",
   "id": "40d5fb95",
   "metadata": {},
   "source": [
    "### Missing Values"
   ]
  },
  {
   "cell_type": "code",
   "execution_count": 17,
   "id": "025ab222",
   "metadata": {},
   "outputs": [
    {
     "data": {
      "text/plain": [
       "Month       596\n",
       "Date        406\n",
       "Day        2887\n",
       "Name          0\n",
       "Phone       136\n",
       "Email       975\n",
       "Course        3\n",
       "Source        1\n",
       "Status      614\n",
       "City          1\n",
       "Fee           0\n",
       "Paid          0\n",
       "Balance       0\n",
       "dtype: int64"
      ]
     },
     "execution_count": 17,
     "metadata": {},
     "output_type": "execute_result"
    }
   ],
   "source": [
    "df.isna().sum()"
   ]
  },
  {
   "cell_type": "code",
   "execution_count": 18,
   "id": "ab17b91a",
   "metadata": {},
   "outputs": [
    {
     "data": {
      "text/plain": [
       "<AxesSubplot:>"
      ]
     },
     "execution_count": 18,
     "metadata": {},
     "output_type": "execute_result"
    },
    {
     "data": {
      "image/png": "[encoded data removed]",
      "text/plain": [
       "<Figure size 432x288 with 2 Axes>"
      ]
     },
     "metadata": {
      "needs_background": "light"
     },
     "output_type": "display_data"
    }
   ],
   "source": [
    "sns.heatmap(df.isna(),cmap = 'Blues')"
   ]
  },
  {
   "cell_type": "code",
   "execution_count": 19,
   "id": "f4fe9c43",
   "metadata": {},
   "outputs": [],
   "source": [
    "df.drop(['Month','Date','Day','Phone','Email','Status'],axis = 1,inplace = True)"
   ]
  },
  {
   "cell_type": "code",
   "execution_count": 20,
   "id": "324d558c",
   "metadata": {},
   "outputs": [
    {
     "data": {
      "text/html": [
       "<div>\n",
       "<style scoped>\n",
       "    .dataframe tbody tr th:only-of-type {\n",
       "        vertical-align: middle;\n",
       "    }\n",
       "\n",
       "    .dataframe tbody tr th {\n",
       "        vertical-align: top;\n",
       "    }\n",
       "\n",
       "    .dataframe thead th {\n",
       "        text-align: right;\n",
       "    }\n",
       "</style>\n",
       "<table border=\"1\" class=\"dataframe\">\n",
       "  <thead>\n",
       "    <tr style=\"text-align: right;\">\n",
       "      <th></th>\n",
       "      <th>Name</th>\n",
       "      <th>Course</th>\n",
       "      <th>Source</th>\n",
       "      <th>City</th>\n",
       "      <th>Fee</th>\n",
       "      <th>Paid</th>\n",
       "      <th>Balance</th>\n",
       "    </tr>\n",
       "  </thead>\n",
       "  <tbody>\n",
       "    <tr>\n",
       "      <th>0</th>\n",
       "      <td>Anand</td>\n",
       "      <td>Salesforce</td>\n",
       "      <td>Reference</td>\n",
       "      <td>Hyderabad</td>\n",
       "      <td>30000</td>\n",
       "      <td>4000</td>\n",
       "      <td>26000</td>\n",
       "    </tr>\n",
       "    <tr>\n",
       "      <th>1</th>\n",
       "      <td>Pranav</td>\n",
       "      <td>Python</td>\n",
       "      <td>Walk-In</td>\n",
       "      <td>Hyderabad</td>\n",
       "      <td>15000</td>\n",
       "      <td>3000</td>\n",
       "      <td>12000</td>\n",
       "    </tr>\n",
       "    <tr>\n",
       "      <th>2</th>\n",
       "      <td>Puja Jain</td>\n",
       "      <td>Salesforce</td>\n",
       "      <td>Sulekha</td>\n",
       "      <td>Bangalore</td>\n",
       "      <td>10000</td>\n",
       "      <td>2000</td>\n",
       "      <td>8000</td>\n",
       "    </tr>\n",
       "    <tr>\n",
       "      <th>3</th>\n",
       "      <td>Krishna</td>\n",
       "      <td>Devops</td>\n",
       "      <td>Sulekha</td>\n",
       "      <td>Hyderabad</td>\n",
       "      <td>30000</td>\n",
       "      <td>4000</td>\n",
       "      <td>26000</td>\n",
       "    </tr>\n",
       "    <tr>\n",
       "      <th>4</th>\n",
       "      <td>Eswar</td>\n",
       "      <td>Python</td>\n",
       "      <td>Sulekha</td>\n",
       "      <td>Hyderabad</td>\n",
       "      <td>15000</td>\n",
       "      <td>3000</td>\n",
       "      <td>12000</td>\n",
       "    </tr>\n",
       "    <tr>\n",
       "      <th>...</th>\n",
       "      <td>...</td>\n",
       "      <td>...</td>\n",
       "      <td>...</td>\n",
       "      <td>...</td>\n",
       "      <td>...</td>\n",
       "      <td>...</td>\n",
       "      <td>...</td>\n",
       "    </tr>\n",
       "    <tr>\n",
       "      <th>3140</th>\n",
       "      <td>Venkata reddy</td>\n",
       "      <td>oracle financial R12</td>\n",
       "      <td>justdail</td>\n",
       "      <td>hyderabad</td>\n",
       "      <td>30000</td>\n",
       "      <td>3000</td>\n",
       "      <td>27000</td>\n",
       "    </tr>\n",
       "    <tr>\n",
       "      <th>3141</th>\n",
       "      <td>Syed ishaq</td>\n",
       "      <td>PYTHON</td>\n",
       "      <td>justdail</td>\n",
       "      <td>hyderabad</td>\n",
       "      <td>15000</td>\n",
       "      <td>3000</td>\n",
       "      <td>12000</td>\n",
       "    </tr>\n",
       "    <tr>\n",
       "      <th>3142</th>\n",
       "      <td>Venu</td>\n",
       "      <td>oracle financial R12</td>\n",
       "      <td>justdail</td>\n",
       "      <td>hyderabad</td>\n",
       "      <td>10000</td>\n",
       "      <td>2000</td>\n",
       "      <td>8000</td>\n",
       "    </tr>\n",
       "    <tr>\n",
       "      <th>3143</th>\n",
       "      <td>suresh</td>\n",
       "      <td>aws</td>\n",
       "      <td>justdail</td>\n",
       "      <td>hyderabad</td>\n",
       "      <td>30000</td>\n",
       "      <td>3000</td>\n",
       "      <td>27000</td>\n",
       "    </tr>\n",
       "    <tr>\n",
       "      <th>3144</th>\n",
       "      <td>Vinod</td>\n",
       "      <td>devops</td>\n",
       "      <td>justdail</td>\n",
       "      <td>hyderabad</td>\n",
       "      <td>15000</td>\n",
       "      <td>2000</td>\n",
       "      <td>13000</td>\n",
       "    </tr>\n",
       "  </tbody>\n",
       "</table>\n",
       "<p>3145 rows × 7 columns</p>\n",
       "</div>"
      ],
      "text/plain": [
       "               Name                Course     Source       City    Fee  Paid  \\\n",
       "0             Anand            Salesforce  Reference  Hyderabad  30000  4000   \n",
       "1            Pranav                Python    Walk-In  Hyderabad  15000  3000   \n",
       "2         Puja Jain            Salesforce    Sulekha  Bangalore  10000  2000   \n",
       "3           Krishna                Devops    Sulekha  Hyderabad  30000  4000   \n",
       "4             Eswar                Python    Sulekha  Hyderabad  15000  3000   \n",
       "...             ...                   ...        ...        ...    ...   ...   \n",
       "3140  Venkata reddy  oracle financial R12   justdail  hyderabad  30000  3000   \n",
       "3141     Syed ishaq                PYTHON   justdail  hyderabad  15000  3000   \n",
       "3142           Venu  oracle financial R12   justdail  hyderabad  10000  2000   \n",
       "3143         suresh                   aws   justdail  hyderabad  30000  3000   \n",
       "3144          Vinod                devops   justdail  hyderabad  15000  2000   \n",
       "\n",
       "      Balance  \n",
       "0       26000  \n",
       "1       12000  \n",
       "2        8000  \n",
       "3       26000  \n",
       "4       12000  \n",
       "...       ...  \n",
       "3140    27000  \n",
       "3141    12000  \n",
       "3142     8000  \n",
       "3143    27000  \n",
       "3144    13000  \n",
       "\n",
       "[3145 rows x 7 columns]"
      ]
     },
     "execution_count": 20,
     "metadata": {},
     "output_type": "execute_result"
    }
   ],
   "source": [
    "df"
   ]
  },
  {
   "cell_type": "code",
   "execution_count": 32,
   "id": "5c6b5ae0",
   "metadata": {},
   "outputs": [],
   "source": [
    "df.fillna((0),axis = 1,inplace= True)"
   ]
  },
  {
   "cell_type": "code",
   "execution_count": 33,
   "id": "53d25c0b",
   "metadata": {},
   "outputs": [
    {
     "data": {
      "text/plain": [
       "Name       0\n",
       "Course     0\n",
       "Source     0\n",
       "City       0\n",
       "Fee        0\n",
       "Paid       0\n",
       "Balance    0\n",
       "dtype: int64"
      ]
     },
     "execution_count": 33,
     "metadata": {},
     "output_type": "execute_result"
    }
   ],
   "source": [
    "df.isna().sum()"
   ]
  },
  {
   "cell_type": "code",
   "execution_count": 38,
   "id": "4fc76072",
   "metadata": {},
   "outputs": [
    {
     "data": {
      "text/plain": [
       "<AxesSubplot:>"
      ]
     },
     "execution_count": 38,
     "metadata": {},
     "output_type": "execute_result"
    },
    {
     "data": {
      "image/png": "[encoded data removed]",
      "text/plain": [
       "<Figure size 432x288 with 1 Axes>"
      ]
     },
     "metadata": {
      "needs_background": "light"
     },
     "output_type": "display_data"
    }
   ],
   "source": [
    "sns.heatmap(df.isna(),cmap = 'cool',yticklabels=0,cbar=0)"
   ]
  },
  {
   "cell_type": "code",
   "execution_count": 39,
   "id": "94f69b65",
   "metadata": {},
   "outputs": [
    {
     "data": {
      "text/plain": [
       "46"
      ]
     },
     "execution_count": 39,
     "metadata": {},
     "output_type": "execute_result"
    }
   ],
   "source": [
    "df.duplicated().sum()"
   ]
  },
  {
   "cell_type": "code",
   "execution_count": 40,
   "id": "e6bad8f9",
   "metadata": {},
   "outputs": [
    {
     "data": {
      "image/png": "[encoded data removed]",
      "text/plain": [
       "<Figure size 1440x1440 with 4 Axes>"
      ]
     },
     "metadata": {
      "needs_background": "light"
     },
     "output_type": "display_data"
    }
   ],
   "source": [
    "df.hist(figsize=(20,20), color='r', bins=30)\n",
    "plt.show()"
   ]
  },
  {
   "cell_type": "code",
   "execution_count": 41,
   "id": "af420427",
   "metadata": {},
   "outputs": [
    {
     "data": {
      "text/html": [
       "<div>\n",
       "<style scoped>\n",
       "    .dataframe tbody tr th:only-of-type {\n",
       "        vertical-align: middle;\n",
       "    }\n",
       "\n",
       "    .dataframe tbody tr th {\n",
       "        vertical-align: top;\n",
       "    }\n",
       "\n",
       "    .dataframe thead th {\n",
       "        text-align: right;\n",
       "    }\n",
       "</style>\n",
       "<table border=\"1\" class=\"dataframe\">\n",
       "  <thead>\n",
       "    <tr style=\"text-align: right;\">\n",
       "      <th></th>\n",
       "      <th>Fee</th>\n",
       "      <th>Paid</th>\n",
       "      <th>Balance</th>\n",
       "    </tr>\n",
       "  </thead>\n",
       "  <tbody>\n",
       "    <tr>\n",
       "      <th>Fee</th>\n",
       "      <td>1.000000</td>\n",
       "      <td>0.168854</td>\n",
       "      <td>0.994827</td>\n",
       "    </tr>\n",
       "    <tr>\n",
       "      <th>Paid</th>\n",
       "      <td>0.168854</td>\n",
       "      <td>1.000000</td>\n",
       "      <td>0.067852</td>\n",
       "    </tr>\n",
       "    <tr>\n",
       "      <th>Balance</th>\n",
       "      <td>0.994827</td>\n",
       "      <td>0.067852</td>\n",
       "      <td>1.000000</td>\n",
       "    </tr>\n",
       "  </tbody>\n",
       "</table>\n",
       "</div>"
      ],
      "text/plain": [
       "              Fee      Paid   Balance\n",
       "Fee      1.000000  0.168854  0.994827\n",
       "Paid     0.168854  1.000000  0.067852\n",
       "Balance  0.994827  0.067852  1.000000"
      ]
     },
     "execution_count": 41,
     "metadata": {},
     "output_type": "execute_result"
    }
   ],
   "source": [
    "df.corr()"
   ]
  },
  {
   "cell_type": "code",
   "execution_count": 42,
   "id": "749c9987",
   "metadata": {},
   "outputs": [
    {
     "data": {
      "image/png": "[encoded data removed]",
      "text/plain": [
       "<Figure size 1080x720 with 2 Axes>"
      ]
     },
     "metadata": {
      "needs_background": "light"
     },
     "output_type": "display_data"
    }
   ],
   "source": [
    "plt.figure(figsize=(15,10))\n",
    "sns.heatmap(df.corr(), cmap='viridis', annot=True, cbar=True)\n",
    "plt.show()"
   ]
  },
  {
   "cell_type": "code",
   "execution_count": 53,
   "id": "845dffbb",
   "metadata": {},
   "outputs": [
    {
     "data": {
      "text/plain": [
       "<seaborn.axisgrid.PairGrid at 0x1f4fef5d6a0>"
      ]
     },
     "execution_count": 53,
     "metadata": {},
     "output_type": "execute_result"
    },
    {
     "data": {
      "image/png": "[encoded data removed]",
      "text/plain": [
       "<Figure size 628.5x540 with 12 Axes>"
      ]
     },
     "metadata": {
      "needs_background": "light"
     },
     "output_type": "display_data"
    }
   ],
   "source": [
    "sns.pairplot(df,hue = 'Source',palette='rainbow')"
   ]
  },
  {
   "cell_type": "code",
   "execution_count": 55,
   "id": "84984e40",
   "metadata": {},
   "outputs": [
    {
     "data": {
      "image/png": "[encoded data removed]",
      "text/plain": [
       "<Figure size 432x288 with 1 Axes>"
      ]
     },
     "metadata": {
      "needs_background": "light"
     },
     "output_type": "display_data"
    }
   ],
   "source": [
    "sns.distplot(df['Paid'])\n",
    "plt.show()"
   ]
  },
  {
   "cell_type": "code",
   "execution_count": 62,
   "id": "68d5a59f",
   "metadata": {},
   "outputs": [
    {
     "data": {
      "text/plain": [
       "<AxesSubplot:xlabel='Balance', ylabel='Source'>"
      ]
     },
     "execution_count": 62,
     "metadata": {},
     "output_type": "execute_result"
    },
    {
     "data": {
      "image/png": "[encoded data removed]",
      "text/plain": [
       "<Figure size 1080x720 with 1 Axes>"
      ]
     },
     "metadata": {
      "needs_background": "light"
     },
     "output_type": "display_data"
    }
   ],
   "source": [
    "plt.figure(figsize=(15,10))\n",
    "sns.boxplot(x='Balance', y='Source', data=df)"
   ]
  },
  {
   "cell_type": "code",
   "execution_count": 60,
   "id": "57cb898d",
   "metadata": {},
   "outputs": [
    {
     "name": "stderr",
     "output_type": "stream",
     "text": [
      "C:\\Users\\DELL\\anaconda3\\lib\\site-packages\\seaborn\\_decorators.py:36: FutureWarning: Pass the following variable as a keyword arg: x. From version 0.12, the only valid positional argument will be `data`, and passing other arguments without an explicit keyword will result in an error or misinterpretation.\n",
      "  warnings.warn(\n"
     ]
    },
    {
     "data": {
      "text/plain": [
       "<AxesSubplot:xlabel='Balance'>"
      ]
     },
     "execution_count": 60,
     "metadata": {},
     "output_type": "execute_result"
    },
    {
     "data": {
      "image/png": "[encoded data removed]",
      "text/plain": [
       "<Figure size 432x288 with 1 Axes>"
      ]
     },
     "metadata": {
      "needs_background": "light"
     },
     "output_type": "display_data"
    }
   ],
   "source": [
    "sns.boxplot(df['Balance'])"
   ]
  },
  {
   "cell_type": "code",
   "execution_count": null,
   "id": "06738c84",
   "metadata": {},
   "outputs": [],
   "source": []
  }
 ],
 "metadata": {
  "kernelspec": {
   "display_name": "Python 3 (ipykernel)",
   "language": "python",
   "name": "python3"
  },
  "language_info": {
   "codemirror_mode": {
    "name": "ipython",
    "version": 3
   },
   "file_extension": ".py",
   "mimetype": "text/x-python",
   "name": "python",
   "nbconvert_exporter": "python",
   "pygments_lexer": "ipython3",
   "version": "3.9.7"
  }
 },
 "nbformat": 4,
 "nbformat_minor": 5
}
